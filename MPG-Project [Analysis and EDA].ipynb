{
 "cells": [
  {
   "cell_type": "markdown",
   "metadata": {},
   "source": [
    "# About Data"
   ]
  },
  {
   "cell_type": "markdown",
   "metadata": {},
   "source": [
    "This dataset is a slightly modified version of the dataset provided in the StatLib library. In line with the use by Ross Quinlan (1993) in predicting the attribute \"mpg\", 8 of the original instances were removed because they had unknown values for the \"mpg\" attribute. The original dataset is available in the file \"auto-mpg.data-original\". \n",
    "\n",
    "\"The data concerns city-cycle fuel consumption in miles per gallon, to be predicted in terms of 3 multivalued discrete and 5 continuous attributes.\" (Quinlan, 1993)\n",
    "\n"
   ]
  },
  {
   "cell_type": "markdown",
   "metadata": {},
   "source": [
    "### Data Attributes"
   ]
  },
  {
   "cell_type": "markdown",
   "metadata": {},
   "source": [
    "1. mpg: continuous \n",
    "2. cylinders: multi-valued discrete \n",
    "3. displacement: continuous \n",
    "4. horsepower: continuous \n",
    "5. weight: continuous \n",
    "6. acceleration: continuous \n",
    "7. model year: multi-valued discrete \n",
    "8. origin: multi-valued discrete \n",
    "9. car name: string (unique for each instance\n",
    "\n",
    "MPG (miles per gallon)\n",
    "cylinders\n",
    "engine displacement (cu. inches)\n",
    "horsepower\n",
    "vehicle weight (lbs.)\n",
    "time to accelerate from O to 60 mph (sec.)\n",
    "model year (modulo 100)\n",
    "origin of car (1. American, 2. European, 3. Japanese)"
   ]
  },
  {
   "cell_type": "markdown",
   "metadata": {},
   "source": [
    "### Importing Libraries"
   ]
  },
  {
   "cell_type": "code",
   "execution_count": null,
   "metadata": {},
   "outputs": [],
   "source": [
    "import pandas as pd\n",
    "import numpy as np\n",
    "import seaborn as sns\n",
    "import matplotlib.pyplot as plt \n",
    "\n",
    "sns.set()\n",
    "%matplotlib inline"
   ]
  },
  {
   "cell_type": "markdown",
   "metadata": {},
   "source": [
    "#### Importing Data file"
   ]
  },
  {
   "cell_type": "code",
   "execution_count": null,
   "metadata": {},
   "outputs": [],
   "source": [
    "#Reading csv format dataset\n",
    "file = pd.read_csv('auto-mpg.csv', na_values='?')"
   ]
  },
  {
   "cell_type": "markdown",
   "metadata": {},
   "source": [
    "#### Copying file to data"
   ]
  },
  {
   "cell_type": "code",
   "execution_count": null,
   "metadata": {},
   "outputs": [],
   "source": [
    "data = file.copy()"
   ]
  },
  {
   "cell_type": "code",
   "execution_count": null,
   "metadata": {},
   "outputs": [],
   "source": [
    "data.head()"
   ]
  },
  {
   "cell_type": "markdown",
   "metadata": {},
   "source": [
    "#### Shape of Data"
   ]
  },
  {
   "cell_type": "code",
   "execution_count": null,
   "metadata": {},
   "outputs": [],
   "source": [
    "data.shape "
   ]
  },
  {
   "cell_type": "markdown",
   "metadata": {},
   "source": [
    "There are 398 rows and 9 columns in dataset"
   ]
  },
  {
   "cell_type": "code",
   "execution_count": null,
   "metadata": {},
   "outputs": [],
   "source": [
    "data.columns"
   ]
  },
  {
   "cell_type": "markdown",
   "metadata": {},
   "source": [
    "#### Looking For Null Values"
   ]
  },
  {
   "cell_type": "code",
   "execution_count": null,
   "metadata": {},
   "outputs": [],
   "source": [
    "data.isnull().sum()"
   ]
  },
  {
   "cell_type": "markdown",
   "metadata": {},
   "source": [
    "There are 6 values in hourse power"
   ]
  },
  {
   "cell_type": "markdown",
   "metadata": {},
   "source": [
    "Removing null values from hoursepower."
   ]
  },
  {
   "cell_type": "code",
   "execution_count": null,
   "metadata": {},
   "outputs": [],
   "source": [
    "#Dropping all the rows which have null values\n",
    "data.dropna(axis=0, inplace=True)"
   ]
  },
  {
   "cell_type": "code",
   "execution_count": null,
   "metadata": {},
   "outputs": [],
   "source": [
    "# Validating dropna \n",
    "data.shape"
   ]
  },
  {
   "cell_type": "markdown",
   "metadata": {},
   "source": [
    "6 rows has been removed from the dataframe"
   ]
  },
  {
   "cell_type": "markdown",
   "metadata": {},
   "source": [
    "There are 392 cars name with 201 unique values and **Ford Pinto** has maximum occrence i.e. 5"
   ]
  },
  {
   "cell_type": "markdown",
   "metadata": {},
   "source": [
    "#### Duplicates Values"
   ]
  },
  {
   "cell_type": "code",
   "execution_count": null,
   "metadata": {},
   "outputs": [],
   "source": [
    "data.duplicated().sum()"
   ]
  },
  {
   "cell_type": "markdown",
   "metadata": {},
   "source": [
    "There is no duplication in the dataframe "
   ]
  },
  {
   "cell_type": "markdown",
   "metadata": {},
   "source": [
    "#### Data types in data"
   ]
  },
  {
   "cell_type": "code",
   "execution_count": null,
   "metadata": {},
   "outputs": [],
   "source": [
    "data.dtypes"
   ]
  },
  {
   "cell_type": "markdown",
   "metadata": {},
   "source": [
    "All the columns have correct datatypes"
   ]
  },
  {
   "cell_type": "markdown",
   "metadata": {},
   "source": [
    "#### Unique values in different Columns"
   ]
  },
  {
   "cell_type": "code",
   "execution_count": null,
   "metadata": {},
   "outputs": [],
   "source": [
    "data.cylinders.unique()"
   ]
  },
  {
   "cell_type": "markdown",
   "metadata": {},
   "source": [
    "Cylinders have  5 unique values"
   ]
  },
  {
   "cell_type": "code",
   "execution_count": null,
   "metadata": {},
   "outputs": [],
   "source": [
    "data['model year'].unique()"
   ]
  },
  {
   "cell_type": "markdown",
   "metadata": {},
   "source": [
    "The model of car is between 70 and 82"
   ]
  },
  {
   "cell_type": "code",
   "execution_count": null,
   "metadata": {},
   "outputs": [],
   "source": [
    "data.origin.unique()"
   ]
  },
  {
   "cell_type": "markdown",
   "metadata": {},
   "source": [
    "Origin of car has 3 values. 1 for USA, 2 for Germany, 3 for Japan"
   ]
  },
  {
   "cell_type": "code",
   "execution_count": null,
   "metadata": {},
   "outputs": [],
   "source": [
    "data.horsepower.unique()"
   ]
  },
  {
   "cell_type": "markdown",
   "metadata": {},
   "source": [
    "### Feature Eingineering"
   ]
  },
  {
   "cell_type": "markdown",
   "metadata": {},
   "source": [
    "Adding Manufacturing Country to dataframe"
   ]
  },
  {
   "cell_type": "code",
   "execution_count": null,
   "metadata": {},
   "outputs": [],
   "source": [
    "data['Man_Country'] = data.origin.replace([1,2,3],['USA','Europe','Japan'])\n"
   ]
  },
  {
   "cell_type": "markdown",
   "metadata": {},
   "source": [
    "Droping origin column from dataframe"
   ]
  },
  {
   "cell_type": "code",
   "execution_count": null,
   "metadata": {},
   "outputs": [],
   "source": [
    "data.drop('origin', axis=1, inplace=True)"
   ]
  },
  {
   "cell_type": "code",
   "execution_count": null,
   "metadata": {},
   "outputs": [],
   "source": [
    "data.head()"
   ]
  },
  {
   "cell_type": "markdown",
   "metadata": {},
   "source": [
    "adding Power to weight Ratio to dataframe"
   ]
  },
  {
   "cell_type": "code",
   "execution_count": null,
   "metadata": {},
   "outputs": [],
   "source": [
    "data['PW_ratio']=data['horsepower']/data['weight']"
   ]
  },
  {
   "cell_type": "code",
   "execution_count": null,
   "metadata": {},
   "outputs": [],
   "source": [
    "data.head()"
   ]
  },
  {
   "cell_type": "markdown",
   "metadata": {},
   "source": [
    "#### Extracting  Company name from car name"
   ]
  },
  {
   "cell_type": "code",
   "execution_count": null,
   "metadata": {},
   "outputs": [],
   "source": [
    "data['Company_Name'] = data['car name'].str.extract('(^.*?)\\s')"
   ]
  },
  {
   "cell_type": "code",
   "execution_count": null,
   "metadata": {},
   "outputs": [],
   "source": [
    "data.head()"
   ]
  },
  {
   "cell_type": "markdown",
   "metadata": {},
   "source": [
    "#### Foramting Company names\n",
    "\n",
    "In the dataset, there are some companies  that are named differently and also have some spelling mistakes, lets correct these. also if there is any NAN we can  fill them by  fillna."
   ]
  },
  {
   "cell_type": "code",
   "execution_count": null,
   "metadata": {},
   "outputs": [],
   "source": [
    "data['Company_Name'] = data['Company_Name'].replace(['volkswagen','vokswagen','vw'],'VW')\n",
    "data['Company_Name'] = data['Company_Name'].replace('maxda','mazda')\n",
    "data['Company_Name'] = data['Company_Name'].replace('toyouta','toyota')\n",
    "data['Company_Name'] = data['Company_Name'].replace('mercedes','mercedes-benz')\n",
    "data['Company_Name'] = data['Company_Name'].replace('nissan','datsun')\n",
    "data['Company_Name'] = data['Company_Name'].replace('capri','ford')\n",
    "data['Company_Name'] = data['Company_Name'].replace(['chevroelt','chevy'],'chevrolet')\n",
    "data['Company_Name'].fillna(value = 'subaru',inplace=True)"
   ]
  },
  {
   "cell_type": "markdown",
   "metadata": {},
   "source": [
    "#### creating horsepower bins"
   ]
  },
  {
   "cell_type": "code",
   "execution_count": null,
   "metadata": {},
   "outputs": [],
   "source": [
    "def creatingbins(x):\n",
    "    if(x <=100):\n",
    "        return 'Low'\n",
    "    elif(x > 100 and x <= 165):\n",
    "        return'Mid'\n",
    "    elif(x > 165 ):\n",
    "        return 'High'"
   ]
  },
  {
   "cell_type": "code",
   "execution_count": null,
   "metadata": {},
   "outputs": [],
   "source": [
    "data['hp_binned'] = data['horsepower'].apply(creatingbins)"
   ]
  },
  {
   "cell_type": "code",
   "execution_count": null,
   "metadata": {},
   "outputs": [],
   "source": [
    "data['hp_binned'].value_counts()"
   ]
  },
  {
   "cell_type": "code",
   "execution_count": null,
   "metadata": {},
   "outputs": [],
   "source": [
    "data.head()"
   ]
  },
  {
   "cell_type": "markdown",
   "metadata": {},
   "source": [
    "#### Calculating Engine CC"
   ]
  },
  {
   "cell_type": "code",
   "execution_count": null,
   "metadata": {},
   "outputs": [],
   "source": [
    "data['DispCC']=data['displacement']* 16.3871"
   ]
  },
  {
   "cell_type": "code",
   "execution_count": null,
   "metadata": {},
   "outputs": [],
   "source": [
    "data.head()"
   ]
  },
  {
   "cell_type": "code",
   "execution_count": null,
   "metadata": {},
   "outputs": [],
   "source": [
    "data['DispCC'].value_counts()"
   ]
  },
  {
   "cell_type": "markdown",
   "metadata": {},
   "source": [
    "#### Calculating Engine displacement in liters"
   ]
  },
  {
   "cell_type": "code",
   "execution_count": null,
   "metadata": {},
   "outputs": [],
   "source": [
    "data['DispLitr']= data['DispCC']/1000"
   ]
  },
  {
   "cell_type": "code",
   "execution_count": null,
   "metadata": {},
   "outputs": [],
   "source": [
    "data.head()"
   ]
  },
  {
   "cell_type": "markdown",
   "metadata": {},
   "source": [
    "#### Shape of data"
   ]
  },
  {
   "cell_type": "code",
   "execution_count": null,
   "metadata": {},
   "outputs": [],
   "source": [
    "data.shape"
   ]
  },
  {
   "cell_type": "markdown",
   "metadata": {},
   "source": [
    "#### Descriptive Statistics"
   ]
  },
  {
   "cell_type": "code",
   "execution_count": null,
   "metadata": {},
   "outputs": [],
   "source": [
    "#Sataistics of numeric values\n",
    "data.describe()"
   ]
  },
  {
   "cell_type": "code",
   "execution_count": null,
   "metadata": {
    "scrolled": true
   },
   "outputs": [],
   "source": [
    "#Sataistics of Object type variables\n",
    "\n",
    "data.describe(include='O')"
   ]
  },
  {
   "cell_type": "code",
   "execution_count": null,
   "metadata": {
    "scrolled": true
   },
   "outputs": [],
   "source": [
    "#Sataistics of all data\n",
    "data.describe(include='all')"
   ]
  },
  {
   "cell_type": "markdown",
   "metadata": {},
   "source": [
    "### Visualization"
   ]
  },
  {
   "cell_type": "code",
   "execution_count": null,
   "metadata": {},
   "outputs": [],
   "source": [
    "sns.distplot(data['mpg']);\n",
    "plt.title('MPG Distribution in Data')\n",
    "plt.show()"
   ]
  },
  {
   "cell_type": "code",
   "execution_count": null,
   "metadata": {},
   "outputs": [],
   "source": [
    "data.head()"
   ]
  },
  {
   "cell_type": "code",
   "execution_count": null,
   "metadata": {},
   "outputs": [],
   "source": [
    "sns.countplot(x= 'hp_binned', data=data);\n",
    "plt.title('Horse Power Distributiondata:image/png;base64,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 in Data')\n",
    "plt.show()"
   ]
  },
  {
   "cell_type": "code",
   "execution_count": null,
   "metadata": {},
   "outputs": [],
   "source": [
    "sns.distplot(data['acceleration'], hist=True, kde=False, color='red')\n",
    "plt.title('Acceleration Distribution in Data')\n",
    "plt.show()"
   ]
  },
  {
   "cell_type": "code",
   "execution_count": null,
   "metadata": {},
   "outputs": [],
   "source": [
    "plt.figure(figsize=(12,4))\n",
    "sns.boxplot(x='cylinders',y='displacement', data=data)\n",
    "plt.show()"
   ]
  },
  {
   "cell_type": "code",
   "execution_count": null,
   "metadata": {},
   "outputs": [],
   "source": [
    "data['displacement'].value_counts().plot(kind='hist');\n",
    "plt.xlabel('Displacement in Cu Inches')\n",
    "plt.title('Displacement Distribution')\n",
    "plt.show()"
   ]
  },
  {
   "cell_type": "code",
   "execution_count": null,
   "metadata": {},
   "outputs": [],
   "source": [
    "data['DispCC'].value_counts().plot(kind='hist', color='Green')\n",
    "plt.xlabel('Displacement CC')\n",
    "plt.title('Displacement in CC Distribution')\n",
    "plt.show()"
   ]
  },
  {
   "cell_type": "code",
   "execution_count": null,
   "metadata": {},
   "outputs": [],
   "source": [
    "plt.figure(figsize=(10,5))\n",
    "data['acceleration'].value_counts().head(20).plot(kind='hist', title='Acceleraion of top 20 Cars');"
   ]
  },
  {
   "cell_type": "code",
   "execution_count": null,
   "metadata": {},
   "outputs": [],
   "source": [
    "plt.figure(figsize=(14,5))\n",
    "sns.scatterplot(x='DispLitr', y='mpg',hue='Man_Country', data=data)\n",
    "plt.title('Mpg against Displacement in Litres wrt Countries')\n",
    "plt.show()"
   ]
  },
  {
   "cell_type": "code",
   "execution_count": null,
   "metadata": {},
   "outputs": [],
   "source": [
    "sns.boxplot(x='cylinders',y='mpg',data=data);\n",
    "plt.title('Relation between Cylinders and MPG')\n",
    "plt.show()"
   ]
  },
  {
   "cell_type": "code",
   "execution_count": null,
   "metadata": {},
   "outputs": [],
   "source": [
    "plt.figure(figsize=(12,4))\n",
    "data['Company_Name'].value_counts().plot(kind='bar')\n",
    "plt.title('Cars made by different companies')\n",
    "plt.show()\n"
   ]
  },
  {
   "cell_type": "code",
   "execution_count": null,
   "metadata": {},
   "outputs": [],
   "source": [
    "plt.figure(figsize=(12,4))\n",
    "sns.boxplot(x='Company_Name', y='mpg',data=data)\n",
    "plt.title('Companies compaison wrt MPG')\n",
    "plt.xticks(rotation=45)\n",
    "plt.show()"
   ]
  },
  {
   "cell_type": "markdown",
   "metadata": {},
   "source": [
    "The figure isllustrates that **number of cylinder** greater and less than **4** has less number of mileage."
   ]
  },
  {
   "cell_type": "code",
   "execution_count": null,
   "metadata": {},
   "outputs": [],
   "source": [
    "sns.boxplot(x='model year',y='mpg',data=data);\n",
    "plt.title('Relation between Model Year and MPG')\n",
    "plt.show()"
   ]
  },
  {
   "cell_type": "markdown",
   "metadata": {},
   "source": [
    "Newer model car can cover more miles in gallon than the older model"
   ]
  },
  {
   "cell_type": "code",
   "execution_count": null,
   "metadata": {
    "scrolled": true
   },
   "outputs": [],
   "source": [
    "sns.scatterplot(x='PW_ratio', y='mpg',hue='Man_Country', data=data)\n",
    "plt.title('Power to Weight ratio comparison with miles per Gallon')\n",
    "plt.show()"
   ]
  },
  {
   "cell_type": "code",
   "execution_count": null,
   "metadata": {},
   "outputs": [],
   "source": [
    "sns.scatterplot(x='horsepower', y='mpg',hue='Man_Country', data=data);\n",
    "plt.title('Relation between Cylinders, Horsepower and MPG')\n",
    "plt.show()"
   ]
  },
  {
   "cell_type": "markdown",
   "metadata": {},
   "source": [
    "- greater the horsepower less will be miles per gallon\n",
    "- Japanese made cars has more miles gallon as compared to other two"
   ]
  },
  {
   "cell_type": "code",
   "execution_count": null,
   "metadata": {},
   "outputs": [],
   "source": [
    "data_plt = pd.concat([data['mpg'], data['Company_Name']], axis=1)\n",
    "plt.figure(figsize=(12,6))\n",
    "sns.boxplot(x='Company_Name', y=\"mpg\", data=data_plt)\n",
    "plt.xticks(rotation=60)\n",
    "plt.title('Different mileage by different Companaies')\n",
    "plt.show()"
   ]
  },
  {
   "cell_type": "code",
   "execution_count": null,
   "metadata": {},
   "outputs": [],
   "source": [
    "sns.scatterplot(x='acceleration', y='mpg', data=data);\n",
    "plt.title('Relation between Acceleration and MPG')\n",
    "plt.show()"
   ]
  },
  {
   "cell_type": "markdown",
   "metadata": {},
   "source": [
    "Accerlation is almost indepent of miles per gallon"
   ]
  },
  {
   "cell_type": "code",
   "execution_count": null,
   "metadata": {},
   "outputs": [],
   "source": [
    "sns.scatterplot(x='displacement', y='mpg',size='weight', hue='weight', data=data)\n",
    "plt.title('Relation between Acceleration, Weight and MPG')\n",
    "plt.show()"
   ]
  },
  {
   "cell_type": "markdown",
   "metadata": {},
   "source": [
    "Greater the displacement less will be miles per gallon. Displacement is usually measured in terms of **cc**.\n",
    "Similarly **weight** also has a **negative** relation with miles per gallon"
   ]
  },
  {
   "cell_type": "markdown",
   "metadata": {},
   "source": [
    "##### Comparison between cars from different countries"
   ]
  },
  {
   "cell_type": "code",
   "execution_count": null,
   "metadata": {},
   "outputs": [],
   "source": [
    "df_comp = data[data['cylinders']==4]\n",
    "df_comp.head()"
   ]
  },
  {
   "cell_type": "code",
   "execution_count": null,
   "metadata": {},
   "outputs": [],
   "source": [
    "df_comp['Man_Country'].value_counts()"
   ]
  },
  {
   "cell_type": "markdown",
   "metadata": {},
   "source": [
    "Values count of all the countries having same number of cylinders."
   ]
  },
  {
   "cell_type": "code",
   "execution_count": null,
   "metadata": {},
   "outputs": [],
   "source": [
    "\n",
    "temp = df_comp.groupby('Man_Country')[['displacement','mpg','horsepower','weight']].mean().reset_index()"
   ]
  },
  {
   "cell_type": "code",
   "execution_count": null,
   "metadata": {},
   "outputs": [],
   "source": [
    "temp.head()"
   ]
  },
  {
   "cell_type": "markdown",
   "metadata": {},
   "source": [
    "the values in above table shows that japanese car are bitter than other two in all aspects."
   ]
  },
  {
   "cell_type": "code",
   "execution_count": null,
   "metadata": {},
   "outputs": [],
   "source": [
    "sns.pairplot(data, height = 2.0,hue ='Man_Country')\n",
    "plt.title('Comparison between car by manufacturing Countries')\n",
    "plt.show()"
   ]
  },
  {
   "cell_type": "code",
   "execution_count": null,
   "metadata": {},
   "outputs": [],
   "source": [
    "cor = data.corr()\n",
    "plt.figure(figsize=(12,6))\n",
    "sns.heatmap(cor, annot=True)\n",
    "plt.title('Correlation in Auto-MPG Data')\n",
    "plt.show()"
   ]
  },
  {
   "cell_type": "code",
   "execution_count": null,
   "metadata": {},
   "outputs": [],
   "source": [
    "data.to_csv('Cars_Analyzed_Data.csv', index=False)\n",
    "export_graphviz(clf_dt, out_file=dot_data, filled=True, rounded=True, special_characters=True, feature_names=list(X.columns))"
   ]
  }
 ],
 "metadata": {
  "kernelspec": {
   "display_name": "Python 3",
   "language": "python",
   "name": "python3"
  },
  "language_info": {
   "codemirror_mode": {
    "name": "ipython",
    "version": 3
   },
   "file_extension": ".py",
   "mimetype": "text/x-python",
   "name": "python",
   "nbconvert_exporter": "python",
   "pygments_lexer": "ipython3",
   "version": "3.7.0"
  }
 },
 "nbformat": 4,
 "nbformat_minor": 2
}
